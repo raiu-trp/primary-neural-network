{
 "cells": [
  {
   "cell_type": "markdown",
   "id": "8ce34efd",
   "metadata": {},
   "source": [
    "# データからの学習\n",
    "ニューラルネットワークの特徴は、データから学習できる点にある。（すなわちデータから重みパラメーターを自動的に決定できるということ）"
   ]
  },
  {
   "cell_type": "markdown",
   "id": "8f9b3f2b",
   "metadata": {},
   "source": [
    "## データ駆動\n",
    "具体的に、手書きの数字の画像を5かそうでないかを見分ける問題について考える。このとき、人間が「5」を認識するアルゴリズムをひねり出す方法と、画像から**特徴量**を抽出して、その特徴量のパターンを機械学習の技術で学習する方法が考えられる。ここでいう特徴量は、入力から本質的なデータを的確に抽出できるように設計された変換器のことを指す。\n",
    "<br>\n",
    "画像の特徴量は通常、ベクトルとして記述される。コンピュータービジョンの分野で有名な特徴量として、**SIFT**、**SURF**、**HOG**などが挙げられる。それらで変換されたベクトルに対して、機械学習で使用される識別器（SVMやKNN）で学習させることができる。\n",
    "<br>\n",
    "1つ目の方法では、人間がすべての作業を行う必要がある。また、2つ目の方法でも、特徴量に関しては人間が作成する必要がある。\n",
    "<br>\n",
    "しかし、ニューラルネットワークにおいては、与えられたデータをひたすら学習し、与えられた問題にパターｗンを発見しようとする。この中に人間の手による作業は無く、データをそのままの生のままで学習させることができる、"
   ]
  },
  {
   "cell_type": "markdown",
   "id": "040bd363",
   "metadata": {},
   "source": [
    "## 訓練データとテストデータ\n",
    "機械学習では、**訓練データ**と**テストデータ**の2つのデータに分けて、学習や実験を行うことが一般的である。まず訓練データを用いて最適なパラメータを探索し、テストデータを用いてその訓練したモデルを評価する。これはモデルの**汎化能力**を正しく評価するために行われる。汎化能力は、未知のデータに対する能力でああり、この能力を獲得することこそが機械学習の最終的な目標である。\n",
    "<br>\n",
    "そのため、あるデータセットだけでパラメーターの学習と評価を行ってしまうと、正しい評価が行えなくなる。あるデータセットにだけ過度に対応してしまった状態を**過学習**といい、これを避けることは機械学習の重要な課題である。"
   ]
  },
  {
   "cell_type": "markdown",
   "id": "e2517d1c",
   "metadata": {},
   "source": [
    "# 損失関数\n",
    "ニューラルネットワークでは、最適なパラメーターを探索するための指標として、**損失関数(lost function)**を用いる。この損失関数に任意の関数を用いることができるが、一般には、**2乗和誤差**や**交差エントロピー誤差**などが用いられる。"
   ]
  },
  {
   "cell_type": "markdown",
   "id": "16f31dd7",
   "metadata": {},
   "source": [
    "## 2乗和誤差\n",
    "損失関数の中で最も有名なものは**2乗和誤差(sum of squared error)**でる。この関数は、以下の数式で表される。\n",
    "<br>\n",
    "$ \\displaystyle E = \\frac{1}{2} \\sum_k (y_k - t_k)^2$\n",
    "<br>\n",
    "ここでは、$y_k$はニューラルネットワークの出力、$t_k$は教師データを表し、$k$はデータの次元数を表す。この関数をpythonで実装すると、以下のようになる。"
   ]
  },
  {
   "cell_type": "code",
   "execution_count": 1,
   "id": "0cebb2c5",
   "metadata": {},
   "outputs": [],
   "source": [
    "import numpy as np\n",
    "\n",
    "def sum_squared_error(y, t):\n",
    "    return 0.5 * np.sum((y - t) ** 2)"
   ]
  },
  {
   "cell_type": "markdown",
   "id": "b6409457",
   "metadata": {},
   "source": [
    "## 交差エントロピー誤差\n",
    "2乗和誤差以外の損失関数として、**交差エントロピー誤差(cross entropy error)**もよく用いられる。この関数は、以下の数式であらわされる。\n",
    "<br>\n",
    "$ \\displaystyle E = - \\sum_k t_k \\log y_k $\n",
    "<br>\n",
    "ここで、$\\log$は底が$e$の自然対数($ \\log_e$)を表す。$y_k$はニューラルネットワークの出力、$t_k$は正解ラベルとする(one-hot表現)。同じくpythonで実装すると以下のようになる。正解ラベルはone-hot表現での入力になるため、正解ラベル1に対応する出力の自然対数の総和を計算するということである。"
   ]
  },
  {
   "cell_type": "code",
   "execution_count": 2,
   "id": "3ec349b4",
   "metadata": {},
   "outputs": [],
   "source": [
    "def cross_entropy_error(y, t):\n",
    "    delta = 1e-7 #マイナス無限大発生対策のための微小量\n",
    "    return -np.sum(t * np.log(y + delta))"
   ]
  },
  {
   "cell_type": "markdown",
   "id": "a5a9e156",
   "metadata": {},
   "source": [
    "## ミニバッチ学習\n",
    "機械学習では、訓練データを用いて学習を行う。これは、訓練データに対して損失関数を求め、その値をなるべく小さくするパラメータを探るという手順である。そのため、実際にはデータの個数分の損失関数を求める必要がある。しかし、データ数が多くなるとその方法は現実的ではなくなってくる。そこで、データの一部を選び出し、データ全体の近似として利用する方法がある。この抜き出した一部をミニバッチ（小さな塊）といい、このような学習手法を**ミニバッチ学習**という。\n",
    "<br>\n",
    "実際に、MNISTデータセットでミニバッチ学習を行ってみる。"
   ]
  },
  {
   "cell_type": "code",
   "execution_count": 3,
   "id": "97c357e5",
   "metadata": {},
   "outputs": [
    {
     "name": "stdout",
     "output_type": "stream",
     "text": [
      "(60000, 784)\n",
      "(60000, 10)\n",
      "(10, 784)\n",
      "(10, 10)\n"
     ]
    }
   ],
   "source": [
    "import numpy as np\n",
    "from mnist import load_mnist\n",
    "\n",
    "(x_train, t_train), (x_test, t_test) = load_mnist(normalize=True , one_hot_label=True)\n",
    "\n",
    "#訓練データの大きさ（形）をそれぞれ出力\n",
    "print(x_train.shape) \n",
    "print(t_train.shape)\n",
    "\n",
    "#ミニバッチを作成する\n",
    "train_size = x_train.shape[0]\n",
    "batch_size = 10\n",
    "batch_mask = np.random.choice(train_size, batch_size)\n",
    "x_batch = x_train[batch_mask]\n",
    "t_batch = t_train[batch_mask]\n",
    "\n",
    "#10個ずつ抜き出されていることがわかる\n",
    "print(x_batch.shape)\n",
    "print(t_batch.shape)"
   ]
  },
  {
   "cell_type": "markdown",
   "id": "75f69617",
   "metadata": {},
   "source": [
    "## ミニバッチに対応した交差エントロピー誤差の実装\n",
    "データが1つで入力される場合と、バッチとしてまとめられた場合の両方で利用できるように先ほどの関数を改良する。"
   ]
  },
  {
   "cell_type": "code",
   "execution_count": 4,
   "id": "1515e7f9",
   "metadata": {},
   "outputs": [],
   "source": [
    "def cross_entropy_error(y, t):\n",
    "    if y.ndim == 1:\n",
    "        t = t.reshape(1, t.size)\n",
    "        y = y.reshape(1, y.size)\n",
    "    \n",
    "    batch_size = y.shape[0]\n",
    "    return -np.sum(t * np.log(y + 1e-7)) / batch_size"
   ]
  },
  {
   "cell_type": "markdown",
   "id": "100c05b5",
   "metadata": {},
   "source": [
    "また、教師データがone-hot表現ではなくラベルとして与えられたとき、交差エントロピー誤差は次のように実装できる。"
   ]
  },
  {
   "cell_type": "code",
   "execution_count": 5,
   "id": "3348667e",
   "metadata": {},
   "outputs": [],
   "source": [
    "def cross_entropy_error(y, t):\n",
    "    if y.ndim == 1:\n",
    "        t = t.reshape(1, t.size)\n",
    "        y = y.reshape(1, y.size)\n",
    "    \n",
    "    batch_size = y.shape[0]\n",
    "    return -np.sum(np.log(y[np.arange(batch_size), t] + 1e-7)) / batch_size"
   ]
  },
  {
   "cell_type": "markdown",
   "id": "62378259",
   "metadata": {},
   "source": [
    "## 損失関数を設定する意義\n",
    "ニューラルネットワークの学習においては、損失関数を最小化することで認識精度を向上させていく。実際にしている計算としては、各パラメーターの微分を計算し、その値を手がかりにより損失関数を最小とするパラメーターを更新している。認識精度を学習の指標としてしまうと、パラメーターによる変化は微小なものであり、微分した値はほぼ0であり、また変化があるとしても連続的な変化にならないため、学習をすることができない。これは、活性化関数にステップ関数でなくシグモイド関数が用いられることの理由としても言うことができる。（微分した値が0にならない）"
   ]
  },
  {
   "cell_type": "markdown",
   "id": "17070256",
   "metadata": {},
   "source": [
    "# 数値微分\n",
    "勾配法では、勾配の情報を使って、進む方向を決める。"
   ]
  },
  {
   "cell_type": "markdown",
   "id": "68b721cb",
   "metadata": {},
   "source": [
    "## 微分\n",
    "微分の基本式に関しては既習であるので割愛する。\n",
    "微分をpythonの関数として実装すると以下のようになる。"
   ]
  },
  {
   "cell_type": "code",
   "execution_count": 6,
   "id": "33c5cd7c",
   "metadata": {},
   "outputs": [],
   "source": [
    "def numerical_diff(f, x):\n",
    "    h = 1e-4\n",
    "    return (f(x + h) - f(x - h)) / (2 * h)"
   ]
  },
  {
   "cell_type": "markdown",
   "id": "639665ea",
   "metadata": {},
   "source": [
    "上記の実装では、hをできる限り0に近い0ではない値にしたかったため、pythonの**丸め誤差**を考慮して、h=$10^{-4}$とおいた。一般に、微分における極小の値hはこの値にすることでよい結果を得ることができると知られている。また、今回行っているのは数値微分であり、真の微分（解析的な微分）とは誤差が生まれる。そのため、xを中心として前後の差分（**中心差分**という）を計算することで、誤差を減らすことができる。"
   ]
  },
  {
   "cell_type": "markdown",
   "id": "e658d199",
   "metadata": {},
   "source": [
    "## 偏微分\n"
   ]
  },
  {
   "cell_type": "markdown",
   "id": "1a3d8582",
   "metadata": {},
   "source": [
    "$f(x_0 , x_1) = x_0^2 + x_1^2$と表される2変数の関数について考える。この関数は、以下のようにして実装できる。"
   ]
  },
  {
   "cell_type": "code",
   "execution_count": 7,
   "id": "36c5a7f5",
   "metadata": {},
   "outputs": [],
   "source": [
    "def function_2(x):\n",
    "    return x[0] ** 2 + x[1] ** 2"
   ]
  },
  {
   "cell_type": "markdown",
   "id": "1d9c484f",
   "metadata": {},
   "source": [
    "これを3次元のグラフに表すと以下のようになる。"
   ]
  },
  {
   "cell_type": "code",
   "execution_count": 8,
   "id": "a77067f5",
   "metadata": {},
   "outputs": [
    {
     "data": {
      "image/png": "[encoded data removed]",
      "text/plain": [
       "<Figure size 432x432 with 1 Axes>"
      ]
     },
     "metadata": {
      "needs_background": "light"
     },
     "output_type": "display_data"
    }
   ],
   "source": [
    "import matplotlib.pyplot as plt\n",
    "%matplotlib inline\n",
    "\n",
    "x = [0] * 2\n",
    "t = np.linspace(-3, 3)\n",
    "x[0] = t\n",
    "x[1] = t\n",
    "X = np.meshgrid(x[0], x[1])\n",
    "\n",
    "fig, ax = plt.subplots(figsize=(6, 6), subplot_kw={'projection' : '3d'})\n",
    "ax.plot_wireframe(X[0], X[1], function_2(X), linewidth=0.1)\n",
    "plt.show()"
   ]
  },
  {
   "cell_type": "markdown",
   "id": "a2267e19",
   "metadata": {},
   "source": [
    "この関数は変数が2つあるため、どの変数に対しての微分かを区別する必要がある。このような複数の変数からなる関数の微分を**偏微分**といい、数式では$ \\frac{\\partial f}{\\partial x_0}$,$ \\frac{\\partial f}{\\partial x_1}$のように書き表される。"
   ]
  },
  {
   "cell_type": "markdown",
   "id": "dcc89f0a",
   "metadata": {},
   "source": [
    "# 勾配\n",
    "上記の例では、$x_0$と$x_1$の偏微分について扱った。この2つの偏微分をまとめて($ \\frac{\\partial f}{\\partial x_0}$,$ \\frac{\\partial f}{\\partial x_1}$)と計算することを考える。このような形式で、すべての変数の偏微分をベクトルの形にまとめたものを**勾配**と言う。勾配はpythonでは以下のように実装できる。"
   ]
  },
  {
   "cell_type": "code",
   "execution_count": 9,
   "id": "70966500",
   "metadata": {},
   "outputs": [],
   "source": [
    "def numerical_gradient(f, x):\n",
    "    h = 1e-4\n",
    "    grad = np.zeros_like(x) #xと同じ形状の配列を作成\n",
    "    \n",
    "    for idx in range(x, size):\n",
    "        tmp_val = x[idx]\n",
    "        x[idx] = tmp_val + h\n",
    "        fxh1 = f(x)\n",
    "        \n",
    "        x[idx] = tmp_val - h\n",
    "        fxh2 = f(x)\n",
    "        \n",
    "        grad[idx] = (fxh1 - fxh2) / (2 * h)\n",
    "        x[idx] = tmp_val\n",
    "    \n",
    "    return grad"
   ]
  },
  {
   "cell_type": "markdown",
   "id": "268ba138",
   "metadata": {},
   "source": [
    "## 勾配法\n",
    "勾配の方向は必ずその関数の最小値を指すとは限らないが、少なくともその地点では最も値を少なくすることができる方向である。そこで用いられるのが**勾配法**である。勾配法では、現在の場所から勾配方向に一定の距離進み、その先でも勾配を求めてまたその手順を繰り返す。勾配法は機械学習の最適化問題でよく用いられ、特にニューラルネットワークにおいてよく用いられる。勾配法を数式で表すと、次のようになる。\n",
    "<br>\n",
    "$ x_0 = x_0 - \\eta \\frac{\\partial f}{\\partial x_0}$\n",
    "<br>\n",
    "$ x_1 = x_1 - \\eta \\frac{\\partial f}{\\partial x_1}$"
   ]
  },
  {
   "cell_type": "markdown",
   "id": "d04b328e",
   "metadata": {},
   "source": [
    "この式の$\\eta$は更新の量を表す。ニューラルネットワークの学習においては、**学習率**と呼ばれる。これは、1回の学習でどれだけ学習しパラメーターを更新するかを定める値である。勾配降下法（最小値を目指す勾配法）は、pythonでは以下のように実装される。"
   ]
  },
  {
   "cell_type": "code",
   "execution_count": 10,
   "id": "2c855087",
   "metadata": {},
   "outputs": [],
   "source": [
    "def gradient_descent(f, init_x, lr=0.01, step_num=100):\n",
    "    x = init_x\n",
    "    \n",
    "    for i in range(step_num):\n",
    "        grad = numerical_gradient(f, x)\n",
    "        x -= lr * grad\n",
    "    \n",
    "    return x"
   ]
  },
  {
   "cell_type": "markdown",
   "id": "3f99dc2d",
   "metadata": {},
   "source": [
    "学習率は、高すぎても値が発散してしまい、低すぎてもほとんどパラメーターが更新されずに終わってしまう。そのため、適切案学習率を定めると言うことが重要な問題となる。"
   ]
  },
  {
   "cell_type": "markdown",
   "id": "3d87c3db",
   "metadata": {},
   "source": [
    "## ニューラルネットワークに対する勾配\n",
    "ニューラルネットワークにおいても、勾配を求める必要がある。ここで言う勾配は、重みパラメータに関する損失関数の勾配である。例えば重み$W$を持つニューラルネットワークがあり、損失関数を$L$で表す場合を考える。この際、数式で表すと以下のようになる。\n",
    "<br>\n",
    "<br>\n",
    "$\\large W = \\begin{pmatrix}\n",
    "w_{11} & w_{12} & w_{13} \\\\\n",
    "w_{21} & w_{22} & w_{23}\n",
    "\\end{pmatrix}$\n",
    "<br>\n",
    "<br>\n",
    "$\\large \\frac{\\partial L}{\\partial W} = \\begin{pmatrix}\n",
    "\\frac{\\partial L}{\\partial w_{11}} & \\frac{\\partial L}{\\partial w_{12}} & \\frac{\\partial L}{\\partial w_{13}} \\\\\n",
    "\\frac{\\partial L}{\\partial w_{21}} & \\frac{\\partial L}{\\partial w_{22}} & \\frac{\\partial L}{\\partial w_{23}}\n",
    "\\end{pmatrix}$\n",
    "<br><br>\n",
    "$\\frac{\\partial L}{\\partial W}$の各要素は、それぞれの要素に対する偏微分から構成される。ここではオライリー・ジャパンから発行されている書籍「ゼロから作る Deep Learning」より提供されている関数を用いて勾配を求める実装を行う。"
   ]
  },
  {
   "cell_type": "code",
   "execution_count": 11,
   "id": "4ddaa4ec",
   "metadata": {},
   "outputs": [],
   "source": [
    "import sys, os\n",
    "sys.path.append(os.pardir)\n",
    "import numpy as np\n",
    "from common.functions import softmax, cross_entropy_error\n",
    "from common.gradient import numerical_gradient\n",
    "\n",
    "class simpleNet:\n",
    "    def __init__(self):\n",
    "        self.W = np.random.randn(2, 3) #ガウス分布で初期化\n",
    "        \n",
    "    def predict(self, x):\n",
    "        return np.dot(x, self.W)\n",
    "    \n",
    "    def loss(self, x, t):\n",
    "        z = self.predict(x)\n",
    "        y = softmax(z)\n",
    "        loss = cross_entropy_error(y, t)\n",
    "        \n",
    "        return loss"
   ]
  },
  {
   "cell_type": "code",
   "execution_count": 12,
   "id": "b2e8f208",
   "metadata": {},
   "outputs": [
    {
     "name": "stdout",
     "output_type": "stream",
     "text": [
      "[[ 1.73634974 -0.64359086  0.82690296]\n",
      " [-0.15211201 -1.38373803  1.53260741]]\n",
      "[ 0.90490903 -1.63151874  1.87548845]\n",
      "2\n"
     ]
    },
    {
     "data": {
      "text/plain": [
       "0.34277361227850495"
      ]
     },
     "execution_count": 12,
     "metadata": {},
     "output_type": "execute_result"
    }
   ],
   "source": [
    "net = simpleNet()\n",
    "print(net.W)\n",
    "x = np.array([0.6, 0.9])\n",
    "p = net.predict(x)\n",
    "print(p)\n",
    "\n",
    "print(np.argmax(p))\n",
    "\n",
    "t = np.array([0,0,1])\n",
    "net.loss(x, t)"
   ]
  },
  {
   "cell_type": "code",
   "execution_count": 13,
   "id": "29c8904c",
   "metadata": {},
   "outputs": [
    {
     "name": "stdout",
     "output_type": "stream",
     "text": [
      "[[ 0.16135007  0.01277064 -0.17412071]\n",
      " [ 0.2420251   0.01915596 -0.26118106]]\n"
     ]
    }
   ],
   "source": [
    "def f(W):\n",
    "    return net.loss(x, t)\n",
    "\n",
    "dw = numerical_gradient(f, net.W)\n",
    "print(dw)"
   ]
  },
  {
   "cell_type": "markdown",
   "id": "fbd131e6",
   "metadata": {},
   "source": [
    "このようにして、勾配を計算することができた。"
   ]
  },
  {
   "cell_type": "markdown",
   "id": "1148d230",
   "metadata": {},
   "source": [
    "# 学習アルゴリズムの実装\n",
    "ニューラルネットワークの学習は大きく以下の4つのステップに分けられる。\n",
    "1. ミニバッチ\n",
    "    - 訓練データからランダムに一部のデータを抜き出す。\n",
    "1. 勾配の算出\n",
    "    - ミニバッチの損失関数を減らすために各重みパラメータの勾配を求める。\n",
    "1. パラメータの更新\n",
    "    - 重みパラメーターを勾配方向に微小量だけ更新する。\n",
    "1. 繰り返す\n",
    "    - 上記の手順を繰り返す。\n",
    "<br>\n",
    "この方法は勾配降下法と呼ばれ、特にミニバッチによって無作為に選ばれたデータを使用していることから、**確率的勾配降下法**と呼ばれる。多くのディープラーニングのフレームワークでは、頭文字をとって**SGD**という名前の関数で実装されることが多い。"
   ]
  },
  {
   "cell_type": "markdown",
   "id": "3ee77dbb",
   "metadata": {},
   "source": [
    "## 2層ニューラルネットワークの実装\n",
    "まず、2層のニューラルネットワークを``TwoLayerNet``という名前のクラスとして実装する。"
   ]
  },
  {
   "cell_type": "code",
   "execution_count": 1,
   "id": "a3213255",
   "metadata": {},
   "outputs": [],
   "source": [
    "import sys, os\n",
    "sys.path.append(os.pardir)\n",
    "from common.functions import *\n",
    "from common.gradient import numerical_gradient\n",
    "import numpy as np\n",
    "\n",
    "\n",
    "class TwoLayerNet:\n",
    "\n",
    "    def __init__(self, input_size, hidden_size, output_size, weight_init_std=0.01):\n",
    "        # 重みの初期化\n",
    "        self.params = {}\n",
    "        self.params['W1'] = weight_init_std * np.random.randn(input_size, hidden_size)\n",
    "        self.params['b1'] = np.zeros(hidden_size)\n",
    "        self.params['W2'] = weight_init_std * np.random.randn(hidden_size, output_size)\n",
    "        self.params['b2'] = np.zeros(output_size)\n",
    "\n",
    "    def predict(self, x):\n",
    "        W1, W2 = self.params['W1'], self.params['W2']\n",
    "        b1, b2 = self.params['b1'], self.params['b2']\n",
    "    \n",
    "        a1 = np.dot(x, W1) + b1\n",
    "        z1 = sigmoid(a1)\n",
    "        a2 = np.dot(z1, W2) + b2\n",
    "        y = softmax(a2)\n",
    "        \n",
    "        return y\n",
    "        \n",
    "    # x:入力データ, t:教師データ\n",
    "    def loss(self, x, t):\n",
    "        y = self.predict(x)\n",
    "        \n",
    "        return cross_entropy_error(y, t)\n",
    "    \n",
    "    def accuracy(self, x, t):\n",
    "        y = self.predict(x)\n",
    "        y = np.argmax(y, axis=1)\n",
    "        t = np.argmax(t, axis=1)\n",
    "        \n",
    "        accuracy = np.sum(y == t) / float(x.shape[0])\n",
    "        return accuracy\n",
    "        \n",
    "    # x:入力データ, t:教師データ\n",
    "    def numerical_gradient(self, x, t):\n",
    "        loss_W = lambda W: self.loss(x, t)\n",
    "        \n",
    "        grads = {}\n",
    "        grads['W1'] = numerical_gradient(loss_W, self.params['W1'])\n",
    "        grads['b1'] = numerical_gradient(loss_W, self.params['b1'])\n",
    "        grads['W2'] = numerical_gradient(loss_W, self.params['W2'])\n",
    "        grads['b2'] = numerical_gradient(loss_W, self.params['b2'])\n",
    "        \n",
    "        return grads"
   ]
  },
  {
   "cell_type": "markdown",
   "id": "8a6227b2",
   "metadata": {},
   "source": [
    "## ミニバッチ学習の実装\n",
    "上記で実装した``TwoLayerNet``クラスを対象に、MNISTデータセットを用いて学習を行う。"
   ]
  },
  {
   "cell_type": "code",
   "execution_count": null,
   "id": "f6dd6143",
   "metadata": {},
   "outputs": [
    {
     "name": "stdout",
     "output_type": "stream",
     "text": [
      "imported librarys\n",
      "Data loaded.\n",
      "loop start\n",
      "batched\n",
      "gradiented.\n",
      "1loop(s) ended\n",
      "batched\n",
      "gradiented.\n",
      "2loop(s) ended\n",
      "batched\n",
      "gradiented.\n",
      "3loop(s) ended\n",
      "batched\n",
      "gradiented.\n",
      "4loop(s) ended\n",
      "batched\n",
      "gradiented.\n",
      "5loop(s) ended\n",
      "batched\n",
      "gradiented.\n",
      "6loop(s) ended\n",
      "batched\n",
      "gradiented.\n",
      "7loop(s) ended\n",
      "batched\n"
     ]
    }
   ],
   "source": [
    "import sys, os\n",
    "sys.path.append(os.pardir)  # 親ディレクトリのファイルをインポートするための設定\n",
    "import numpy as np\n",
    "import matplotlib.pyplot as plt\n",
    "print(\"imported librarys\")\n",
    "from mnist import load_mnist\n",
    "\n",
    "# データの読み込み\n",
    "(x_train, t_train), (x_test, t_test) = load_mnist(normalize=True, one_hot_label=True)\n",
    "\n",
    "print(\"Data loaded.\")\n",
    "\n",
    "train_loss_list = []\n",
    "\n",
    "iters_num = 10000  # ハイパーパラメータ\n",
    "train_size = x_train.shape[0]\n",
    "batch_size = 100\n",
    "learning_rate = 0.1\n",
    "\n",
    "network = TwoLayerNet(input_size=784, hidden_size=50, output_size=10)\n",
    "\n",
    "print(\"loop start\")\n",
    "for i in range(iters_num):\n",
    "    batch_mask = np.random.choice(train_size, batch_size)\n",
    "    x_batch = x_train[batch_mask]\n",
    "    t_batch = t_train[batch_mask]\n",
    "    print(\"batched\")\n",
    "    # 勾配の計算\n",
    "    grad = network.numerical_gradient(x_batch, t_batch)\n",
    "    print(\"gradiented.\")\n",
    "    # パラメータの更新\n",
    "    for key in ('W1', 'b1', 'W2', 'b2'):\n",
    "        network.params[key] -= learning_rate * grad[key]\n",
    "    \n",
    "    #学習記録の更新\n",
    "    loss = network.loss(x_batch, t_batch)\n",
    "    train_loss_list.append(loss)\n",
    "    print(str(i+1) + \"loop(s) ended\")\n",
    "# グラフの描画\n",
    "x = np.arange(iters_num)\n",
    "plt.plot(x, train_loss_list, label='train loss')\n",
    "plt.xlabel(\"iteration\")\n",
    "plt.ylabel(\"loss\")\n",
    "plt.ylim(0, 9)\n",
    "plt.show()"
   ]
  }
 ],
 "metadata": {
  "kernelspec": {
   "display_name": "Python 3 (ipykernel)",
   "language": "python",
   "name": "python3"
  },
  "language_info": {
   "codemirror_mode": {
    "name": "ipython",
    "version": 3
   },
   "file_extension": ".py",
   "mimetype": "text/x-python",
   "name": "python",
   "nbconvert_exporter": "python",
   "pygments_lexer": "ipython3",
   "version": "3.9.13"
  }
 },
 "nbformat": 4,
 "nbformat_minor": 5
}
